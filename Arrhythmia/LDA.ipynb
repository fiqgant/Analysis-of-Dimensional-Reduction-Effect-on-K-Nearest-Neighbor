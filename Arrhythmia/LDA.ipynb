{
 "cells": [
  {
   "cell_type": "markdown",
   "metadata": {},
   "source": [
    "# Import Library"
   ]
  },
  {
   "cell_type": "code",
   "execution_count": 1,
   "metadata": {},
   "outputs": [
    {
     "name": "stderr",
     "output_type": "stream",
     "text": [
      "C:\\ProgramData\\Anaconda3\\lib\\site-packages\\statsmodels\\tools\\_testing.py:19: FutureWarning: pandas.util.testing is deprecated. Use the functions in the public API at pandas.testing instead.\n",
      "  import pandas.util.testing as tm\n"
     ]
    }
   ],
   "source": [
    "import numpy as np\n",
    "import pandas as pd\n",
    "import lux\n",
    "import matplotlib.pyplot as plt\n",
    "import seaborn as sns\n",
    "import warnings\n",
    "warnings.filterwarnings('ignore')"
   ]
  },
  {
   "cell_type": "markdown",
   "metadata": {},
   "source": [
    "# Baca dataset"
   ]
  },
  {
   "cell_type": "code",
   "execution_count": 2,
   "metadata": {
    "scrolled": true
   },
   "outputs": [],
   "source": [
    "df = pd.read_csv('dataset/arrhythmia.csv')"
   ]
  },
  {
   "cell_type": "markdown",
   "metadata": {},
   "source": [
    "# Encode categorical class labels"
   ]
  },
  {
   "cell_type": "code",
   "execution_count": 8,
   "metadata": {},
   "outputs": [
    {
     "name": "stdout",
     "output_type": "stream",
     "text": [
      "X shape: (452, 279)\n",
      "y shape: (452, 1)\n"
     ]
    }
   ],
   "source": [
    "from sklearn.preprocessing import StandardScaler\n",
    "\n",
    "X = df.iloc[:, 0:279].values\n",
    "x = df.iloc[:, 0:279]\n",
    "y = df.iloc[:, 279].values\n",
    "y_name = df.iloc[:, 279:280]\n",
    "print(\"X shape:\",X.shape)\n",
    "print(\"y shape:\",y_name.shape)"
   ]
  },
  {
   "cell_type": "code",
   "execution_count": 9,
   "metadata": {
    "scrolled": true
   },
   "outputs": [
    {
     "data": {
      "text/plain": [
       "array([ 8,  6, 10,  1,  7, 14,  1,  1,  1, 10,  3,  1, 10,  6,  1,  1, 10,\n",
       "        1,  1,  1,  1,  1,  1,  1,  1, 16, 14, 10,  2,  2,  6,  1,  1,  1,\n",
       "        4,  1,  1, 10,  1,  6,  1,  1,  1,  1,  1,  4,  5,  1,  6,  1,  1,\n",
       "        1, 10, 16, 16,  6,  1,  1,  6,  1,  5,  5,  1,  1,  1,  1,  2,  1,\n",
       "        6,  1,  6, 16,  1,  1,  1, 10,  3,  2,  1,  1,  1,  1,  2,  4,  6,\n",
       "        9,  2,  4,  9,  9,  1,  4,  1,  5, 10,  1, 10,  1,  1,  1,  4,  1,\n",
       "        1,  1,  6,  4,  6,  1,  2,  1,  1,  1,  1,  1,  6,  1, 16,  1,  1,\n",
       "        1,  1,  1,  1,  1,  1,  1,  1, 10,  1,  1,  1,  1,  1,  1, 10,  1,\n",
       "        1, 10,  1,  1,  1,  5,  1,  1, 10, 10, 10,  1,  1, 10,  1,  1,  1,\n",
       "        6, 16,  1,  1,  2,  1,  1,  1,  1,  1,  1,  1,  1,  1,  1,  5,  4,\n",
       "        1,  1,  1, 10, 15,  6,  1,  1,  1,  2,  1, 16,  1,  4,  2,  4,  2,\n",
       "        2, 14,  9,  1,  1,  2,  2,  1,  1,  1, 16, 16,  1,  2,  1,  1,  1,\n",
       "        3,  1,  1,  9,  1, 10, 10,  1,  2,  2,  4,  1,  2, 15,  3, 16,  1,\n",
       "        1,  6,  1, 10,  3,  1, 16,  1,  1,  1,  4,  1,  1,  1,  2,  1,  2,\n",
       "        1,  1,  1,  1,  1, 15,  1,  2,  1,  1,  4,  1, 10,  4,  3,  3,  1,\n",
       "        1,  2,  3,  5,  2,  1, 16,  1,  1,  1,  1, 10,  1,  1,  1,  1,  1,\n",
       "        6,  1,  1,  2,  1,  2, 10,  1,  1,  1,  1,  6, 10,  3,  1,  1,  1,\n",
       "        1,  1, 10,  1, 10,  2,  2,  2, 10, 10,  1, 15,  1,  6,  3,  2,  1,\n",
       "       16,  6,  2,  7,  1,  1, 10, 10,  1,  1,  5,  1,  1, 10,  5,  1,  2,\n",
       "        2, 10,  1, 10,  7,  1,  2,  1,  1, 16,  1, 10,  1, 10,  1,  1,  1,\n",
       "       16, 10,  1,  6, 10,  1, 10,  1,  5,  1,  1,  2,  1, 10, 16,  1,  3,\n",
       "        2,  6,  2,  2,  3, 16, 10,  6,  1,  2,  2,  2,  1,  9,  1,  2,  1,\n",
       "        5,  2,  8,  1,  1, 10, 16,  3,  1,  1,  6,  1, 16,  5,  9,  1,  1,\n",
       "        1,  1,  1,  1,  9,  1, 10,  3,  1, 10, 14,  1,  5,  1,  1,  1,  1,\n",
       "        1, 16,  4,  2, 16,  1,  1,  1,  1, 10,  1,  1, 15,  1,  1,  1,  9,\n",
       "        1,  1, 10,  1, 16, 10,  6, 10,  3,  1,  1,  1,  1,  1,  1,  1,  1,\n",
       "        1, 10,  1,  1,  1,  1, 10,  2,  1,  1], dtype=int64)"
      ]
     },
     "execution_count": 9,
     "metadata": {},
     "output_type": "execute_result"
    }
   ],
   "source": [
    "y"
   ]
  },
  {
   "cell_type": "code",
   "execution_count": 10,
   "metadata": {},
   "outputs": [],
   "source": [
    "x = StandardScaler().fit_transform(x)\n",
    "y=y.ravel()"
   ]
  },
  {
   "cell_type": "markdown",
   "metadata": {},
   "source": [
    "# LDA implementation using scikit-learn"
   ]
  },
  {
   "cell_type": "markdown",
   "metadata": {},
   "source": [
    "# 15 Dimensi"
   ]
  },
  {
   "cell_type": "code",
   "execution_count": 18,
   "metadata": {},
   "outputs": [],
   "source": [
    "from sklearn.discriminant_analysis import LinearDiscriminantAnalysis as LDA\n",
    "lda = LDA(n_components=12)\n",
    "reduced_data = lda.fit(x,y).transform(x)\n",
    "principalDf = pd.DataFrame(data = reduced_data, columns = ['LDA1','LDA2','LDA3','LDA4','LDA5','LDA6','LDA7','LDA8','LDA9','LDA10','LDA11','LDA12'])\n",
    "# Menambah label\n",
    "finalDf = pd.concat([principalDf, df[['class']]], axis = 1)"
   ]
  },
  {
   "cell_type": "code",
   "execution_count": 19,
   "metadata": {},
   "outputs": [],
   "source": [
    "finalDf.to_csv('dataset/arrhythmia_after_LDA.csv')"
   ]
  },
  {
   "cell_type": "code",
   "execution_count": null,
   "metadata": {},
   "outputs": [],
   "source": []
  },
  {
   "cell_type": "code",
   "execution_count": null,
   "metadata": {},
   "outputs": [],
   "source": []
  }
 ],
 "metadata": {
  "kernelspec": {
   "display_name": "Python 3",
   "language": "python",
   "name": "python3"
  },
  "language_info": {
   "codemirror_mode": {
    "name": "ipython",
    "version": 3
   },
   "file_extension": ".py",
   "mimetype": "text/x-python",
   "name": "python",
   "nbconvert_exporter": "python",
   "pygments_lexer": "ipython3",
   "version": "3.7.3"
  }
 },
 "nbformat": 4,
 "nbformat_minor": 2
}
