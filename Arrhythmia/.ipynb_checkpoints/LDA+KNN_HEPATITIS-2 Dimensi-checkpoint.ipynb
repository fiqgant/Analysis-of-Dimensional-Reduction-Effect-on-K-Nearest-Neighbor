{
 "cells": [
  {
   "cell_type": "code",
   "execution_count": 21,
   "metadata": {},
   "outputs": [],
   "source": [
    "import numpy as np\n",
    "import pandas as pd\n",
    "import matplotlib.pyplot as plt\n",
    "import lux\n",
    "import seaborn as sn\n",
    "from sklearn.model_selection import train_test_split\n",
    "from sklearn.preprocessing import StandardScaler\n",
    "from sklearn.neighbors import KNeighborsClassifier\n",
    "from sklearn.metrics import confusion_matrix\n",
    "from sklearn.metrics import accuracy_score\n",
    "from sklearn.metrics import plot_confusion_matrix\n",
    "%matplotlib inline\n",
    "import warnings\n",
    "warnings.filterwarnings('ignore')"
   ]
  },
  {
   "cell_type": "code",
   "execution_count": 22,
   "metadata": {
    "scrolled": true
   },
   "outputs": [
    {
     "data": {
      "application/vnd.jupyter.widget-view+json": {
       "model_id": "241adda2de534614aba6f37c26673572",
       "version_major": 2,
       "version_minor": 0
      },
      "text/plain": [
       "Button(description='Toggle Pandas/Lux', layout=Layout(top='5px', width='140px'), style=ButtonStyle())"
      ]
     },
     "metadata": {},
     "output_type": "display_data"
    },
    {
     "data": {
      "application/vnd.jupyter.widget-view+json": {
       "model_id": "af79bf62eae3458789bc5519bf531e36",
       "version_major": 2,
       "version_minor": 0
      },
      "text/plain": [
       "Output()"
      ]
     },
     "metadata": {},
     "output_type": "display_data"
    }
   ],
   "source": [
    "dataset = pd.read_csv('arrh_after_LDA2D.csv')\n",
    "dataset"
   ]
  },
  {
   "cell_type": "code",
   "execution_count": 23,
   "metadata": {},
   "outputs": [
    {
     "name": "stdout",
     "output_type": "stream",
     "text": [
      "LDA1     0\n",
      "LDA2     0\n",
      "class    0\n",
      "dtype: int64\n"
     ]
    }
   ],
   "source": [
    "dataset.isnull().sum()\n",
    "print(dataset.isnull().sum())"
   ]
  },
  {
   "cell_type": "code",
   "execution_count": 24,
   "metadata": {},
   "outputs": [
    {
     "name": "stdout",
     "output_type": "stream",
     "text": [
      "LDA1\n",
      "LDA2\n",
      "class\n"
     ]
    }
   ],
   "source": [
    "# iterating the columns \n",
    "for col in dataset.columns: \n",
    "    print(col)"
   ]
  },
  {
   "cell_type": "code",
   "execution_count": 25,
   "metadata": {},
   "outputs": [
    {
     "name": "stdout",
     "output_type": "stream",
     "text": [
      "X shape: (452, 2)\n",
      "y shape: (452, 1)\n"
     ]
    }
   ],
   "source": [
    "X = dataset.iloc[:, 0:2].values\n",
    "x = dataset.iloc[:, 0:2]\n",
    "y = dataset.iloc[:, 2].values\n",
    "y_name = dataset.iloc[:, 2:3]\n",
    "print(\"X shape:\",X.shape)\n",
    "print(\"y shape:\",y_name.shape)"
   ]
  },
  {
   "cell_type": "code",
   "execution_count": 26,
   "metadata": {},
   "outputs": [
    {
     "name": "stdout",
     "output_type": "stream",
     "text": [
      "Attributes:\n",
      "\n",
      "LDA1\n",
      "LDA2\n",
      "\n",
      "\n",
      "Class:\n",
      "class\n"
     ]
    }
   ],
   "source": [
    "# iterating the columns \n",
    "print(\"Attributes:\\n\")\n",
    "for col in x.columns: \n",
    "    print(col)\n",
    "\n",
    "print(\"\\n\")\n",
    "print(\"Class:\")\n",
    "for col in y_name.columns: \n",
    "    print(col)"
   ]
  },
  {
   "cell_type": "code",
   "execution_count": 27,
   "metadata": {},
   "outputs": [
    {
     "data": {
      "text/plain": [
       "<bound method DataFrame.corr of          LDA1      LDA2  class\n",
       "0   -0.340956 -2.553467      8\n",
       "1   -1.914560  2.037573      6\n",
       "2    0.154725  1.631340     10\n",
       "3    0.030271 -0.084707      1\n",
       "4    0.981910 -0.267509      7\n",
       "..        ...       ...    ...\n",
       "447 -2.430655  0.920388      1\n",
       "448  0.093671  2.632985     10\n",
       "449 -0.925463  0.068685      2\n",
       "450  0.055887 -0.078340      1\n",
       "451 -0.168542  1.075040      1\n",
       "\n",
       "[452 rows x 3 columns]>"
      ]
     },
     "execution_count": 27,
     "metadata": {},
     "output_type": "execute_result"
    }
   ],
   "source": [
    "dataset.corr"
   ]
  },
  {
   "cell_type": "code",
   "execution_count": 28,
   "metadata": {},
   "outputs": [
    {
     "data": {
      "image/png": "[encoded data removed]",
      "text/plain": [
       "<Figure size 1440x720 with 2 Axes>"
      ]
     },
     "metadata": {},
     "output_type": "display_data"
    }
   ],
   "source": [
    "sn.set(font_scale=1)\n",
    "sn.set_style(\"darkgrid\")\n",
    "fig_dims = (20, 10)\n",
    "fig, ax = plt.subplots(figsize=fig_dims)\n",
    "sn.heatmap(dataset.corr(),annot=True, ax=ax)\n",
    "plt.show()"
   ]
  },
  {
   "cell_type": "code",
   "execution_count": 41,
   "metadata": {},
   "outputs": [],
   "source": [
    "from sklearn.model_selection import train_test_split\n",
    "X_train, X_test, y_train, y_test = train_test_split(X, y, test_size = 0.3, random_state = 73)"
   ]
  },
  {
   "cell_type": "code",
   "execution_count": 42,
   "metadata": {},
   "outputs": [],
   "source": [
    "from sklearn.preprocessing import StandardScaler\n",
    "sc = StandardScaler()\n",
    "X_train = sc.fit_transform(X_train)\n",
    "X_test = sc.transform(X_test)"
   ]
  },
  {
   "cell_type": "code",
   "execution_count": 43,
   "metadata": {},
   "outputs": [],
   "source": [
    "from sklearn.neighbors import KNeighborsClassifier\n",
    "classifier_knn = KNeighborsClassifier(n_neighbors = 5, metric = 'euclidean')"
   ]
  },
  {
   "cell_type": "code",
   "execution_count": 44,
   "metadata": {
    "scrolled": false
   },
   "outputs": [
    {
     "data": {
      "text/plain": [
       "KNeighborsClassifier(metric='euclidean')"
      ]
     },
     "execution_count": 44,
     "metadata": {},
     "output_type": "execute_result"
    }
   ],
   "source": [
    "classifier_knn.fit(X_train, y_train)"
   ]
  },
  {
   "cell_type": "code",
   "execution_count": 45,
   "metadata": {},
   "outputs": [],
   "source": [
    "y_pred_knn = classifier_knn.predict(X_test)"
   ]
  },
  {
   "cell_type": "code",
   "execution_count": 46,
   "metadata": {},
   "outputs": [
    {
     "name": "stdout",
     "output_type": "stream",
     "text": [
      "[[60  7  0  2  4  3  0  0  2  0  0]\n",
      " [11  3  0  0  0  0  0  0  0  0  0]\n",
      " [ 0  0  4  0  0  0  0  0  0  0  0]\n",
      " [ 2  0  0  0  0  0  0  0  0  0  0]\n",
      " [ 1  0  0  2  0  0  0  0  0  0  0]\n",
      " [ 4  0  0  1  0  1  0  0  0  1  0]\n",
      " [ 0  0  0  0  0  0  0  0  0  0  0]\n",
      " [ 0  0  0  0  0  0  0  3  0  0  0]\n",
      " [10  1  0  0  0  0  0  0  4  0  0]\n",
      " [ 1  0  0  0  0  0  1  0  0  0  0]\n",
      " [ 6  2  0  0  0  0  0  0  0  0  0]]\n"
     ]
    }
   ],
   "source": [
    "from sklearn.metrics import confusion_matrix, classification_report\n",
    "cm_knn = confusion_matrix(y_test, y_pred_knn)\n",
    "print(cm_knn)\n"
   ]
  },
  {
   "cell_type": "code",
   "execution_count": 47,
   "metadata": {},
   "outputs": [],
   "source": [
    "from sklearn.metrics import accuracy_score, precision_score, recall_score, f1_score, matthews_corrcoef\n",
    "ac  = accuracy_score(y_test, y_pred_knn)\n",
    "pre = precision_score(y_test, y_pred_knn, average='weighted')\n",
    "re  = recall_score(y_test, y_pred_knn, average='weighted')\n",
    "f1  = f1_score(y_test, y_pred_knn, average='weighted')\n",
    "mc  = matthews_corrcoef(y_test, y_pred_knn)  "
   ]
  },
  {
   "cell_type": "code",
   "execution_count": 48,
   "metadata": {},
   "outputs": [
    {
     "name": "stdout",
     "output_type": "stream",
     "text": [
      "Akurasi    = 0.5514705882352942\n",
      "Precison    = 0.5238524053346035\n",
      "Recall      = 0.5514705882352942\n",
      "f1 score    = 0.5235453701536665\n",
      "MCC         = 0.23415134509748417\n"
     ]
    }
   ],
   "source": [
    "np.set_printoptions()\n",
    "print(\"Akurasi    =\", ac)\n",
    "print(\"Precison    =\",pre)\n",
    "print(\"Recall      =\", re)\n",
    "print(\"f1 score    =\", f1)\n",
    "print(\"MCC         =\", mc)"
   ]
  },
  {
   "cell_type": "code",
   "execution_count": 49,
   "metadata": {},
   "outputs": [
    {
     "data": {
      "image/png": "[encoded data removed]",
      "text/plain": [
       "<Figure size 720x432 with 2 Axes>"
      ]
     },
     "metadata": {},
     "output_type": "display_data"
    }
   ],
   "source": [
    "matrix = plot_confusion_matrix(classifier_knn, X_test, y_test, cmap=plt.cm.Reds)\n",
    "matrix.ax_.set_title('Confusion Matrix')\n",
    "plt.xlabel('Prediksi')\n",
    "plt.ylabel('Aktual')\n",
    "plt.gcf().axes[0].tick_params\n",
    "plt.gcf().axes[1].tick_params\n",
    "plt.gcf().set_size_inches(10,6)\n",
    "plt.show()"
   ]
  },
  {
   "cell_type": "code",
   "execution_count": 50,
   "metadata": {},
   "outputs": [],
   "source": [
    "error = []\n",
    "\n",
    "# Calculating error for K values between 1 and 40\n",
    "for i in range(1, 40):  \n",
    "    knn = KNeighborsClassifier(n_neighbors=i)\n",
    "    knn.fit(X_train, y_train)\n",
    "    pred_i = knn.predict(X_test)\n",
    "    error.append(np.mean(pred_i != y_test))"
   ]
  },
  {
   "cell_type": "code",
   "execution_count": 39,
   "metadata": {},
   "outputs": [
    {
     "data": {
      "text/plain": [
       "[0.5367647058823529,\n",
       " 0.47058823529411764,\n",
       " 0.45588235294117646,\n",
       " 0.4338235294117647,\n",
       " 0.4485294117647059,\n",
       " 0.4117647058823529,\n",
       " 0.38235294117647056,\n",
       " 0.38235294117647056,\n",
       " 0.3602941176470588,\n",
       " 0.3602941176470588,\n",
       " 0.3602941176470588,\n",
       " 0.35294117647058826,\n",
       " 0.375,\n",
       " 0.36764705882352944,\n",
       " 0.375,\n",
       " 0.36764705882352944,\n",
       " 0.3602941176470588,\n",
       " 0.3602941176470588,\n",
       " 0.3897058823529412,\n",
       " 0.38235294117647056,\n",
       " 0.38235294117647056,\n",
       " 0.3897058823529412,\n",
       " 0.38235294117647056,\n",
       " 0.38235294117647056,\n",
       " 0.38235294117647056,\n",
       " 0.375,\n",
       " 0.375,\n",
       " 0.38235294117647056,\n",
       " 0.38235294117647056,\n",
       " 0.38235294117647056,\n",
       " 0.38235294117647056,\n",
       " 0.375,\n",
       " 0.375,\n",
       " 0.375,\n",
       " 0.375,\n",
       " 0.375,\n",
       " 0.375,\n",
       " 0.375,\n",
       " 0.375]"
      ]
     },
     "execution_count": 39,
     "metadata": {},
     "output_type": "execute_result"
    }
   ],
   "source": [
    "error"
   ]
  },
  {
   "cell_type": "code",
   "execution_count": 40,
   "metadata": {},
   "outputs": [
    {
     "data": {
      "text/plain": [
       "Text(0, 0.5, 'Error rata-rata')"
      ]
     },
     "execution_count": 40,
     "metadata": {},
     "output_type": "execute_result"
    },
    {
     "data": {
      "image/png": "[encoded data removed]",
      "text/plain": [
       "<Figure size 864x432 with 1 Axes>"
      ]
     },
     "metadata": {},
     "output_type": "display_data"
    }
   ],
   "source": [
    "plt.figure(figsize=(12, 6))  \n",
    "plt.plot(range(1, 40), error, color='red', linestyle='dashed', marker='o',  \n",
    "         markerfacecolor='blue', markersize=10)\n",
    "plt.title('Error Rate Nilai K')  \n",
    "plt.xlabel('Nilai K')  \n",
    "plt.ylabel('Error rata-rata')"
   ]
  },
  {
   "cell_type": "code",
   "execution_count": null,
   "metadata": {},
   "outputs": [],
   "source": []
  },
  {
   "cell_type": "code",
   "execution_count": null,
   "metadata": {},
   "outputs": [],
   "source": []
  }
 ],
 "metadata": {
  "kernelspec": {
   "display_name": "Python 3",
   "language": "python",
   "name": "python3"
  },
  "language_info": {
   "codemirror_mode": {
    "name": "ipython",
    "version": 3
   },
   "file_extension": ".py",
   "mimetype": "text/x-python",
   "name": "python",
   "nbconvert_exporter": "python",
   "pygments_lexer": "ipython3",
   "version": "3.7.3"
  }
 },
 "nbformat": 4,
 "nbformat_minor": 4
}
